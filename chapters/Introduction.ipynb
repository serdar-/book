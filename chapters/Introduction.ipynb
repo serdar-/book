{
 "cells": [
  {
   "cell_type": "markdown",
   "metadata": {},
   "source": [
    "# A Primer on Data Analysis Using Python\n",
    "\n",
    "## Introduction \n",
    "\n",
    "We are ruthelessly creating data. As our capabilities increase and as our devices get more sophisticated, we continue to produce data faster. In 2013, [it was suggested that 90% of all world's data had been created within last two years.](www.sciencedaily.com/releases/2013/05/130522085217.htm) As our devices and capabilities increase, we tend to measure more and get more data. All this is of course not for nothing. \n",
    "\n",
    "As there is a surplus of useless and meaningless data, there is "
   ]
  }
 ],
 "metadata": {
  "kernelspec": {
   "display_name": "Python 2",
   "language": "python",
   "name": "python2"
  },
  "language_info": {
   "codemirror_mode": {
    "name": "ipython",
    "version": 2
   },
   "file_extension": ".py",
   "mimetype": "text/x-python",
   "name": "python",
   "nbconvert_exporter": "python",
   "pygments_lexer": "ipython2",
   "version": "2.7.11"
  }
 },
 "nbformat": 4,
 "nbformat_minor": 0
}
